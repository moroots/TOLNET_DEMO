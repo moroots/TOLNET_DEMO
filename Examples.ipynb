{
 "cells": [
  {
   "cell_type": "markdown",
   "id": "b5794df8-e33d-454d-9bd7-3624514515de",
   "metadata": {},
   "source": [
    "!pip install git+https://github.com/moroots/TOLNET_DEMO"
   ]
  },
  {
   "cell_type": "code",
   "execution_count": 1,
   "id": "0985b443-6b0a-4b51-b940-812441b8e74c",
   "metadata": {},
   "outputs": [],
   "source": [
    "from TOLNET_DEMO.tolnet import TOLNet"
   ]
  },
  {
   "cell_type": "code",
   "execution_count": 2,
   "id": "6cd2141e-013d-4256-afcb-0bd8acd49eda",
   "metadata": {},
   "outputs": [],
   "source": [
    "tolnet = TOLNet()"
   ]
  },
  {
   "cell_type": "code",
   "execution_count": 3,
   "id": "311a9b6e-64eb-410a-a510-5e0168773d3f",
   "metadata": {},
   "outputs": [
    {
     "name": "stdout",
     "output_type": "stream",
     "text": [
      "\n",
      " TOLNET product IDs:\n",
      " id product_type_name\n",
      "  1           O3Lidar\n",
      "  2           Surface\n",
      "  3             Other\n",
      "  4             HIRES\n",
      "  5            CALVAL\n",
      "  6              CLIM\n",
      "  7           Gridded\n",
      "  8            Legacy \n",
      "\n"
     ]
    }
   ],
   "source": [
    "#Prints querible parameters.\n",
    "tolnet.print_product_types()\n",
    "# tolnet.print_processing_types()\n",
    "# tolnet.print_instrument_groups()\n",
    "# tolnet.print_file_types()"
   ]
  },
  {
   "cell_type": "code",
   "execution_count": null,
   "id": "bc8e96aa-f6c4-4d7f-945e-92a4ffabbae2",
   "metadata": {},
   "outputs": [
    {
     "name": "stderr",
     "output_type": "stream",
     "text": [
      " 44%|████████████████████████████████████▎                                              | 7/16 [00:14<00:17,  1.89s/it]"
     ]
    }
   ],
   "source": [
    "date_start = \"2023-08-08\"\n",
    "date_end = \"2023-08-11\"\n",
    "product_IDs = [4]\n",
    "\n",
    "# Fetches data using the TOLNet object. min_date and max_date are required, but other parameters are optional.\n",
    "# Stores the data in the object, which can be accessed with tolnet.data and tolnet.meta_data.\n",
    "# This will prompt the user for confirmation if the query would download every file from the API.\n",
    "# Querible parameters are processing_type, instrument_group, product_type, and file_type. \n",
    "# All parameters require a list of IDs.\n",
    "data = tolnet.import_data(min_date=date_start, max_date=date_end, product_type=product_IDs)\n"
   ]
  },
  {
   "cell_type": "code",
   "execution_count": null,
   "id": "d3127f7e-3968-474c-a9c4-7848b508c777",
   "metadata": {},
   "outputs": [],
   "source": [
    "# Plots the data, used after import_data. Puts each combination of instrument group and processing type on a seperate plot.\n",
    "# Additional parameters can be used: title, ylabel, xlabel(axis labels), xlims, ylims, yticks, surface, sonde, and savefig.\n",
    "# Title, ylabel, and xlabel take strings.\n",
    "# xlims takes a list of two dates in ISO 8601 Format(YYYY-MM-DD), like this: ['2023-08-05', '2023-08-08'].\n",
    "# Surface and Sonde plot their respective datas instead.\n",
    "data.tolnet_curtains()"
   ]
  },
  {
   "cell_type": "code",
   "execution_count": null,
   "id": "c7a0fcc4-e99d-4353-8f7d-af1fd4205657",
   "metadata": {},
   "outputs": [],
   "source": []
  }
 ],
 "metadata": {
  "kernelspec": {
   "display_name": "Python 3 (ipykernel)",
   "language": "python",
   "name": "python3"
  },
  "language_info": {
   "codemirror_mode": {
    "name": "ipython",
    "version": 3
   },
   "file_extension": ".py",
   "mimetype": "text/x-python",
   "name": "python",
   "nbconvert_exporter": "python",
   "pygments_lexer": "ipython3",
   "version": "3.12.4"
  }
 },
 "nbformat": 4,
 "nbformat_minor": 5
}
