{
 "cells": [
  {
   "cell_type": "code",
   "execution_count": 1,
   "id": "83ddda02-b161-4e10-a418-9d6d80967be3",
   "metadata": {},
   "outputs": [
    {
     "ename": "ImportError",
     "evalue": "cannot import name 'TOLNET' from 'tolnet' (C:\\Users\\meroo\\OneDrive - UMBC\\Research\\NASA\\Summer 2024\\TOLNET_Summer\\tolnet.py)",
     "output_type": "error",
     "traceback": [
      "\u001b[1;31m---------------------------------------------------------------------------\u001b[0m",
      "\u001b[1;31mImportError\u001b[0m                               Traceback (most recent call last)",
      "Cell \u001b[1;32mIn[1], line 1\u001b[0m\n\u001b[1;32m----> 1\u001b[0m \u001b[38;5;28;01mfrom\u001b[39;00m \u001b[38;5;21;01mtolnet\u001b[39;00m \u001b[38;5;28;01mimport\u001b[39;00m TOLNET\n",
      "\u001b[1;31mImportError\u001b[0m: cannot import name 'TOLNET' from 'tolnet' (C:\\Users\\meroo\\OneDrive - UMBC\\Research\\NASA\\Summer 2024\\TOLNET_Summer\\tolnet.py)"
     ]
    }
   ],
   "source": [
    "from tolnet import TOLNET"
   ]
  }
 ],
 "metadata": {
  "kernelspec": {
   "display_name": "Python 3 (ipykernel)",
   "language": "python",
   "name": "python3"
  },
  "language_info": {
   "codemirror_mode": {
    "name": "ipython",
    "version": 3
   },
   "file_extension": ".py",
   "mimetype": "text/x-python",
   "name": "python",
   "nbconvert_exporter": "python",
   "pygments_lexer": "ipython3",
   "version": "3.10.14"
  }
 },
 "nbformat": 4,
 "nbformat_minor": 5
}
