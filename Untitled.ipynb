{
 "cells": [
  {
   "cell_type": "markdown",
   "id": "b5794df8-e33d-454d-9bd7-3624514515de",
   "metadata": {},
   "source": [
    "!pip install git+https://github.com/moroots/TOLNET_DEMO"
   ]
  },
  {
   "cell_type": "code",
   "execution_count": 1,
   "id": "0985b443-6b0a-4b51-b940-812441b8e74c",
   "metadata": {},
   "outputs": [],
   "source": [
    "from TOLNET_DEMO.tolnet import TOLNet"
   ]
  },
  {
   "cell_type": "code",
   "execution_count": 2,
   "id": "6cd2141e-013d-4256-afcb-0bd8acd49eda",
   "metadata": {},
   "outputs": [],
   "source": [
    "tolnet = TOLNet()"
   ]
  },
  {
   "cell_type": "code",
   "execution_count": 3,
   "id": "311a9b6e-64eb-410a-a510-5e0168773d3f",
   "metadata": {},
   "outputs": [
    {
     "name": "stdout",
     "output_type": "stream",
     "text": [
      "\n",
      " TOLNET product IDs:\n",
      " id product_type_name\n",
      "  1           O3Lidar\n",
      "  2           Surface\n",
      "  3             Other\n",
      "  4             HIRES\n",
      "  5            CALVAL\n",
      "  6              CLIM\n",
      "  7           Gridded\n",
      "  8            Legacy \n",
      "\n"
     ]
    }
   ],
   "source": [
    "tolnet.print_product_types()"
   ]
  },
  {
   "cell_type": "code",
   "execution_count": 4,
   "id": "a10294e3-1078-4e3f-9bc5-9e90fda43058",
   "metadata": {},
   "outputs": [
    {
     "name": "stdout",
     "output_type": "stream",
     "text": [
      "\n",
      " Processing Types:\n",
      " id        processing_type_name\n",
      "  1 Centrally Processed (GLASS)\n",
      "  2          In-House Processed\n",
      "  3                 Unprocessed \n",
      "\n"
     ]
    }
   ],
   "source": [
    "tolnet.print_processing_types()"
   ]
  },
  {
   "cell_type": "code",
   "execution_count": 5,
   "id": "18296bb5-c689-446e-a5ae-72406842565c",
   "metadata": {},
   "outputs": [
    {
     "name": "stdout",
     "output_type": "stream",
     "text": [
      "\n",
      " Instrument Groups:\n",
      " id instrument_group_name\n",
      "  1                  ECCC\n",
      "  2             NASA GSFC\n",
      "  3        NASA JPL TMTOL\n",
      "  4             NASA LaRC\n",
      "  5         NOAA ESRL/CSL\n",
      "  6                   UAH\n",
      "  7       NASA JPL SMOL-1\n",
      "  8       NASA JPL SMOL-2\n",
      "  9                  CCNY\n",
      " 10             Hampton U \n",
      "\n"
     ]
    }
   ],
   "source": [
    "tolnet.print_instrument_groups()"
   ]
  },
  {
   "cell_type": "code",
   "execution_count": 6,
   "id": "e9ecb36e-a735-499d-b719-c47ba1131964",
   "metadata": {},
   "outputs": [
    {
     "name": "stdout",
     "output_type": "stream",
     "text": [
      "\n",
      " File Types:\n",
      " id                    file_type_name\n",
      "  1              HDF GEOMS (Standard)\n",
      "  2 Generic HDF (Experimental/Legacy)\n",
      "  3                             ASCII\n",
      "  4                             Image\n",
      "  5                               Raw \n",
      "\n"
     ]
    }
   ],
   "source": [
    "tolnet.print_file_types()"
   ]
  },
  {
   "cell_type": "code",
   "execution_count": 7,
   "id": "0f54223a-509f-458a-8c4b-158a59fd336a",
   "metadata": {},
   "outputs": [],
   "source": [
    "date_start = \"2023-08-08\"\n",
    "date_end = \"2023-08-11\"\n",
    "product_IDs = [4]"
   ]
  },
  {
   "cell_type": "code",
   "execution_count": null,
   "id": "bc8e96aa-f6c4-4d7f-945e-92a4ffabbae2",
   "metadata": {},
   "outputs": [
    {
     "name": "stderr",
     "output_type": "stream",
     "text": [
      " 44%|████████████████████████████████████▎                                              | 7/16 [00:14<00:17,  1.89s/it]"
     ]
    }
   ],
   "source": [
    "data = tolnet.import_data(min_date=date_start, max_date=date_end, product_type=product_IDs)"
   ]
  },
  {
   "cell_type": "code",
   "execution_count": null,
   "id": "d3127f7e-3968-474c-a9c4-7848b508c777",
   "metadata": {},
   "outputs": [],
   "source": [
    "data.tolnet_curtains()"
   ]
  },
  {
   "cell_type": "code",
   "execution_count": null,
   "id": "c7a0fcc4-e99d-4353-8f7d-af1fd4205657",
   "metadata": {},
   "outputs": [],
   "source": []
  }
 ],
 "metadata": {
  "kernelspec": {
   "display_name": "Python 3 (ipykernel)",
   "language": "python",
   "name": "python3"
  },
  "language_info": {
   "codemirror_mode": {
    "name": "ipython",
    "version": 3
   },
   "file_extension": ".py",
   "mimetype": "text/x-python",
   "name": "python",
   "nbconvert_exporter": "python",
   "pygments_lexer": "ipython3",
   "version": "3.10.14"
  }
 },
 "nbformat": 4,
 "nbformat_minor": 5
}
